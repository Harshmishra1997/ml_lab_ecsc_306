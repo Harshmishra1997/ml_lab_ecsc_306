{
 "cells": [
  {
   "cell_type": "code",
   "execution_count": null,
   "metadata": {
    "collapsed": true
   },
   "outputs": [],
   "source": [
    "import tensorflow as tf\n",
    "a = tf.constant([2.0, 4.0, 4, 5, 7, 15])\n",
    "# 2-D tensor `b`\n",
    "b = tf.constant([4, 8, 6, 10.0, 14, 19])\n",
    "\n",
    "k=tf.reduce_mean(a)\n",
    "l=tf.reduce_mean(b)\n",
    "\n",
    "m=tf.subtract(a,k)\n",
    "#n=tf.subtract(b,l)\n",
    "\n",
    "o=tf.square(m)\n",
    "#p=tf.square(n)\n",
    "\n",
    "variance=tf.reduce_sum(o)\n",
    "\n",
    "#covariance\n",
    "\n",
    "r=tf.subtract(a,k)#(x(i)−mean(x))\n",
    "s=tf.subtract(b,l)\n",
    "\n",
    "#multiply(x(i)−mean(x))∗(y(i)−mean(y))\n",
    "\n",
    "t=tf.multiply(r,s)\n",
    "\n",
    "#sum((x(i)−mean(x))∗(y(i)−mean(y)))\n",
    "covariance=tf.reduce_sum(t)\n",
    "\n",
    "#m=covariance(x,y)/variance(x)\n",
    "m_graph=tf.div(covariance,variance)\n",
    "\n",
    "\n",
    "#m∗mean(x)\n",
    "p1=tf.multiply(m_graph,k)\n",
    "#c=mean(y)−m∗mean(x)\n",
    "c=tf.subtract(l,p1)\n",
    "\n",
    "\n",
    "sesss=tf.Session()\n",
    "print(\"mean of a is\")\n",
    "print(sesss.run(k))\n",
    "print(\"mean of b is\")\n",
    "print(sesss.run(l))\n",
    "print(\"variance is\")\n",
    "print(sesss.run(variance))\n",
    "print(\"covariance is\")\n",
    "print(sesss.run(covariance))\n",
    "print(\"m is\")\n",
    "print(sesss.run(m_graph))\n",
    "print(\"c is\")\n",
    "print(sesss.run(c))"
   ]
  }
 ],
 "metadata": {
  "kernelspec": {
   "display_name": "Python 3",
   "language": "python",
   "name": "python3"
  },
  "language_info": {
   "codemirror_mode": {
    "name": "ipython",
    "version": 3
   },
   "file_extension": ".py",
   "mimetype": "text/x-python",
   "name": "python",
   "nbconvert_exporter": "python",
   "pygments_lexer": "ipython3",
   "version": "3.6.2"
  }
 },
 "nbformat": 4,
 "nbformat_minor": 2
}
